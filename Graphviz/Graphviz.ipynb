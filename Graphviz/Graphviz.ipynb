{
 "cells": [
  {
   "cell_type": "markdown",
   "metadata": {},
   "source": [
    "# 使用Graphviz和Python脚本绘制企业股权结构图  \n",
    "\n",
    "Author: Yanyu Long  \n",
    "Updated: Mar 21, 2021"
   ]
  },
  {
   "cell_type": "markdown",
   "metadata": {},
   "source": [
    "**注意事项**  \n",
    "\n",
    "Graphviz是一个可视化图形软件，非Python自带，需提前安装，安装后将Graphviz的bin子目录加入系统环境变量。  \n",
    "\n",
    "> 若Graphviz的安装目录为`C:\\Program Files\\Graphviz2.38`，需将`C:\\Program Files\\Graphviz2.38\\bin`加到系统环境变量列表中。\n",
    "\n",
    "**Tips**  \n",
    "\n",
    "生成的股权结构图保存为svg后可以复制到Visio里进行微调美化。从Visio复制到Word，粘贴为图片，清晰度会很高。"
   ]
  },
  {
   "cell_type": "code",
   "execution_count": 1,
   "metadata": {
    "ExecuteTime": {
     "end_time": "2021-03-20T16:57:57.353731Z",
     "start_time": "2021-03-20T16:57:56.695487Z"
    },
    "code_folding": []
   },
   "outputs": [],
   "source": [
    "import pandas as pd\n",
    "import numpy as np\n",
    "from graphviz import Digraph # Digraph - 有向图，Graph - 无向图\n",
    "import os\n",
    "import re"
   ]
  },
  {
   "cell_type": "markdown",
   "metadata": {},
   "source": [
    "**辅助函数：生成渐变色**  \n",
    "\n",
    "* 参考：https://blog.csdn.net/sinat_37967865/article/details/93203689\n",
    "* 使用方式：\n",
    "\n",
    "```\n",
    "hex2rgb(\"#30475e\") # -> [48, 71, 94]\n",
    "rgb2hex([48, 71, 94]) # -> '#30475E'\n",
    "```"
   ]
  },
  {
   "cell_type": "code",
   "execution_count": 2,
   "metadata": {
    "ExecuteTime": {
     "end_time": "2021-03-20T16:57:57.371679Z",
     "start_time": "2021-03-20T16:57:57.358713Z"
    }
   },
   "outputs": [],
   "source": [
    "def rgb2hex(rgb):\n",
    "    color = '#'\n",
    "    for num in rgb:\n",
    "        num = int(num)\n",
    "        color += str(hex(num))[-2:].replace('x', '0').upper()\n",
    "    return color\n",
    "\n",
    "def hex2rgb(hex):\n",
    "    r = int(hex[1:3],16)\n",
    "    g = int(hex[3:5],16)\n",
    "    b = int(hex[5:7], 16)\n",
    "    rgb = [r,g,b]\n",
    "    return rgb"
   ]
  },
  {
   "cell_type": "markdown",
   "metadata": {},
   "source": [
    "## 企业股权结构图"
   ]
  },
  {
   "cell_type": "markdown",
   "metadata": {},
   "source": [
    "### 案例1：虚拟数据"
   ]
  },
  {
   "cell_type": "code",
   "execution_count": 3,
   "metadata": {
    "ExecuteTime": {
     "end_time": "2021-03-20T16:57:57.472410Z",
     "start_time": "2021-03-20T16:57:57.375667Z"
    }
   },
   "outputs": [
    {
     "data": {
      "text/html": [
       "<div>\n",
       "<style scoped>\n",
       "    .dataframe tbody tr th:only-of-type {\n",
       "        vertical-align: middle;\n",
       "    }\n",
       "\n",
       "    .dataframe tbody tr th {\n",
       "        vertical-align: top;\n",
       "    }\n",
       "\n",
       "    .dataframe thead th {\n",
       "        text-align: right;\n",
       "    }\n",
       "</style>\n",
       "<table border=\"1\" class=\"dataframe\">\n",
       "  <thead>\n",
       "    <tr style=\"text-align: right;\">\n",
       "      <th></th>\n",
       "      <th>企业名称</th>\n",
       "      <th>投资企业</th>\n",
       "      <th>出资比例</th>\n",
       "    </tr>\n",
       "  </thead>\n",
       "  <tbody>\n",
       "    <tr>\n",
       "      <th>0</th>\n",
       "      <td>企业A</td>\n",
       "      <td>企业E</td>\n",
       "      <td>9.642857</td>\n",
       "    </tr>\n",
       "    <tr>\n",
       "      <th>1</th>\n",
       "      <td>企业B</td>\n",
       "      <td>企业F</td>\n",
       "      <td>52.173913</td>\n",
       "    </tr>\n",
       "    <tr>\n",
       "      <th>2</th>\n",
       "      <td>企业A</td>\n",
       "      <td>企业B</td>\n",
       "      <td>50.761421</td>\n",
       "    </tr>\n",
       "    <tr>\n",
       "      <th>3</th>\n",
       "      <td>企业C</td>\n",
       "      <td>企业G</td>\n",
       "      <td>50.000000</td>\n",
       "    </tr>\n",
       "    <tr>\n",
       "      <th>4</th>\n",
       "      <td>企业D</td>\n",
       "      <td>企业H</td>\n",
       "      <td>5.681818</td>\n",
       "    </tr>\n",
       "    <tr>\n",
       "      <th>5</th>\n",
       "      <td>企业D</td>\n",
       "      <td>企业I</td>\n",
       "      <td>5.000003</td>\n",
       "    </tr>\n",
       "    <tr>\n",
       "      <th>6</th>\n",
       "      <td>企业E</td>\n",
       "      <td>企业J</td>\n",
       "      <td>48.571429</td>\n",
       "    </tr>\n",
       "    <tr>\n",
       "      <th>7</th>\n",
       "      <td>企业E</td>\n",
       "      <td>企业F</td>\n",
       "      <td>47.826087</td>\n",
       "    </tr>\n",
       "    <tr>\n",
       "      <th>8</th>\n",
       "      <td>企业D</td>\n",
       "      <td>企业K</td>\n",
       "      <td>20.000000</td>\n",
       "    </tr>\n",
       "    <tr>\n",
       "      <th>9</th>\n",
       "      <td>企业D</td>\n",
       "      <td>企业L</td>\n",
       "      <td>2.000000</td>\n",
       "    </tr>\n",
       "    <tr>\n",
       "      <th>10</th>\n",
       "      <td>企业A</td>\n",
       "      <td>企业D</td>\n",
       "      <td>16.666667</td>\n",
       "    </tr>\n",
       "    <tr>\n",
       "      <th>11</th>\n",
       "      <td>企业A</td>\n",
       "      <td>企业C</td>\n",
       "      <td>100.000000</td>\n",
       "    </tr>\n",
       "    <tr>\n",
       "      <th>12</th>\n",
       "      <td>企业C</td>\n",
       "      <td>企业M</td>\n",
       "      <td>100.000000</td>\n",
       "    </tr>\n",
       "  </tbody>\n",
       "</table>\n",
       "</div>"
      ],
      "text/plain": [
       "   企业名称 投资企业        出资比例\n",
       "0   企业A  企业E    9.642857\n",
       "1   企业B  企业F   52.173913\n",
       "2   企业A  企业B   50.761421\n",
       "3   企业C  企业G   50.000000\n",
       "4   企业D  企业H    5.681818\n",
       "5   企业D  企业I    5.000003\n",
       "6   企业E  企业J   48.571429\n",
       "7   企业E  企业F   47.826087\n",
       "8   企业D  企业K   20.000000\n",
       "9   企业D  企业L    2.000000\n",
       "10  企业A  企业D   16.666667\n",
       "11  企业A  企业C  100.000000\n",
       "12  企业C  企业M  100.000000"
      ]
     },
     "execution_count": 3,
     "metadata": {},
     "output_type": "execute_result"
    }
   ],
   "source": [
    "data = pd.read_excel(\"./对外投资.xlsx\", sheet_name = \"对外投资(多级)\").drop_duplicates().reset_index(drop = True)\n",
    "data"
   ]
  },
  {
   "cell_type": "code",
   "execution_count": 4,
   "metadata": {
    "ExecuteTime": {
     "end_time": "2021-03-20T16:57:57.537235Z",
     "start_time": "2021-03-20T16:57:57.477395Z"
    }
   },
   "outputs": [
    {
     "data": {
      "text/html": [
       "<div>\n",
       "<style scoped>\n",
       "    .dataframe tbody tr th:only-of-type {\n",
       "        vertical-align: middle;\n",
       "    }\n",
       "\n",
       "    .dataframe tbody tr th {\n",
       "        vertical-align: top;\n",
       "    }\n",
       "\n",
       "    .dataframe thead th {\n",
       "        text-align: right;\n",
       "    }\n",
       "</style>\n",
       "<table border=\"1\" class=\"dataframe\">\n",
       "  <thead>\n",
       "    <tr style=\"text-align: right;\">\n",
       "      <th></th>\n",
       "      <th>name</th>\n",
       "      <th>id</th>\n",
       "      <th>depth</th>\n",
       "    </tr>\n",
       "  </thead>\n",
       "  <tbody>\n",
       "    <tr>\n",
       "      <th>0</th>\n",
       "      <td>企业A</td>\n",
       "      <td>3</td>\n",
       "      <td>0</td>\n",
       "    </tr>\n",
       "    <tr>\n",
       "      <th>4</th>\n",
       "      <td>企业B</td>\n",
       "      <td>8</td>\n",
       "      <td>1</td>\n",
       "    </tr>\n",
       "    <tr>\n",
       "      <th>5</th>\n",
       "      <td>企业C</td>\n",
       "      <td>6</td>\n",
       "      <td>1</td>\n",
       "    </tr>\n",
       "    <tr>\n",
       "      <th>6</th>\n",
       "      <td>企业D</td>\n",
       "      <td>1</td>\n",
       "      <td>1</td>\n",
       "    </tr>\n",
       "    <tr>\n",
       "      <th>8</th>\n",
       "      <td>企业E</td>\n",
       "      <td>9</td>\n",
       "      <td>1</td>\n",
       "    </tr>\n",
       "  </tbody>\n",
       "</table>\n",
       "</div>"
      ],
      "text/plain": [
       "  name  id depth\n",
       "0  企业A   3     0\n",
       "4  企业B   8     1\n",
       "5  企业C   6     1\n",
       "6  企业D   1     1\n",
       "8  企业E   9     1"
      ]
     },
     "execution_count": 4,
     "metadata": {},
     "output_type": "execute_result"
    }
   ],
   "source": [
    "# 计算各节点（企业）深度 -------------------------------------\n",
    "var_firma = \"企业名称\"; var_firmb = \"投资企业\"; var_rate = \"出资比例\"\n",
    "df_firm = pd.DataFrame(columns = [\"name\", \"depth\", \"id\"])\n",
    "df_firm.name = list(set(data[var_firma]).union(set(data[var_firmb])))\n",
    "df_firm.id = np.arange(0, len(df_firm.name))\n",
    "\n",
    "firm_list_0 = list(set(data[var_firma]).difference(set(data[var_firmb])))\n",
    "d = 0 \n",
    "while len(firm_list_0)>0:\n",
    "        df_firm.loc[df_firm.name.isin(firm_list_0), \"depth\"] = d\n",
    "        d += 1\n",
    "        firm_list_1 = []\n",
    "        for firm in firm_list_0:\n",
    "            firm_list_1 += data.loc[data[var_firma] == firm, var_firmb].tolist()\n",
    "        firm_list_0 = firm_list_1    \n",
    "\n",
    "if \"depth\" not in data.columns:\n",
    "    data = pd.merge(data, df_firm, left_on = \"企业名称\", right_on = \"name\", how=\"left\")\n",
    "data = data.sort_values(by=\"depth\").reset_index(drop = True)\n",
    "data[[\"name\", \"id\", \"depth\"]].drop_duplicates().sort_values(by = \"depth\").head(10)"
   ]
  },
  {
   "cell_type": "code",
   "execution_count": 5,
   "metadata": {
    "ExecuteTime": {
     "end_time": "2021-03-20T16:57:57.573141Z",
     "start_time": "2021-03-20T16:57:57.549204Z"
    }
   },
   "outputs": [
    {
     "data": {
      "text/plain": [
       "{0: '#223242', 1: '#61717D', 2: '#A0B1B8'}"
      ]
     },
     "execution_count": 5,
     "metadata": {},
     "output_type": "execute_result"
    }
   ],
   "source": [
    "# 设定各节点（企业）颜色为按深度递减的渐变色 -------------------------------------------------\n",
    "n_level = df_firm.depth.max()\n",
    "col1 = [34, 50, 66]; col2 = [160, 177, 184]\n",
    "df_rgb = pd.DataFrame(columns = ['r', 'g', 'b'])\n",
    "df_rgb.r = np.arange(col1[0], col2[0]+1, (col2[0]-col1[0])/n_level)\n",
    "df_rgb.g = np.arange(col1[1], col2[1]+1, (col2[1]-col1[1])/n_level)\n",
    "df_rgb.b = np.arange(col1[2], col2[2]+1, (col2[2]-col1[2])/n_level)\n",
    "col_list = [rgb2hex(df_rgb.iloc[idx].tolist()) for idx in range(len(df_rgb))]\n",
    "col_dict = {}\n",
    "for idx, col in enumerate(col_list):\n",
    "    col_dict[idx] = col\n",
    "col_dict"
   ]
  },
  {
   "cell_type": "code",
   "execution_count": 6,
   "metadata": {
    "ExecuteTime": {
     "end_time": "2021-03-20T16:57:58.122672Z",
     "start_time": "2021-03-20T16:57:57.577129Z"
    },
    "scrolled": true
   },
   "outputs": [
    {
     "data": {
      "text/plain": [
       "'.\\\\股权结构图.svg'"
      ]
     },
     "execution_count": 6,
     "metadata": {},
     "output_type": "execute_result"
    }
   ],
   "source": [
    "g = Digraph(\n",
    "    name=\"股权结构图\", \n",
    "    node_attr={\n",
    "        \"shape\": \"box\", \n",
    "        \"style\": \"filled\", \"fontcolor\": \"#ffffff\",\n",
    "        \"fontname\": \"STZhongsong\", \"fontsize\": \"7\", \n",
    "        \"height\":\"0.25\", \"width\":\".35\",  # 多行\n",
    "    }, \n",
    "    edge_attr={\n",
    "        \"fontname\": \"STZhongsong\",\n",
    "        \"fontsize\":\"6\",\n",
    "        \"arrowsize\":\".5\",\n",
    "    },\n",
    "    format=\"svg\",\n",
    ")\n",
    "g.attr(\n",
    "    nodesep='0.05',\n",
    "    ranksep='.3',\n",
    "    margin='0',\n",
    ")\n",
    "\n",
    "for idx in range(len(data)):\n",
    "    firm_a = data.loc[idx, var_firma]\n",
    "    id_a = df_firm.loc[df_firm.name == firm_a, \"id\"].tolist()[0]\n",
    "    depth_a = df_firm.loc[df_firm.name == firm_a, \"depth\"].tolist()[0]\n",
    "    firm_b = data.loc[idx, var_firmb]\n",
    "    rate = data.loc[idx, var_rate]\n",
    "    g.node(str(id_a), label=firm_a,\n",
    "           color = \"#61717d\", fillcolor = \"#61717d\")\n",
    "    if rate>=0:\n",
    "        id_b = df_firm.loc[df_firm.name == firm_b, \"id\"].tolist()[0]\n",
    "        depth_b = df_firm.loc[df_firm.name == firm_b, \"depth\"].tolist()[0]\n",
    "        g.node(str(id_b), label=firm_b,\n",
    "               color = \"#61717d\", fillcolor = \"#61717d\")\n",
    "        g.edge(str(id_a), str(id_b), label = f\"{round(rate,1)}%\", color=\"#c1a57b\")\n",
    "\n",
    "g.view(filename=\"股权结构图\", directory=\"./\")"
   ]
  },
  {
   "cell_type": "markdown",
   "metadata": {},
   "source": [
    "<img src=\"股权结构图.svg\" style=\"height:220px\">"
   ]
  },
  {
   "cell_type": "markdown",
   "metadata": {},
   "source": [
    "### 案例2：上饶投资"
   ]
  },
  {
   "cell_type": "code",
   "execution_count": 7,
   "metadata": {
    "ExecuteTime": {
     "end_time": "2021-03-20T16:57:58.497670Z",
     "start_time": "2021-03-20T16:57:58.132642Z"
    },
    "scrolled": true
   },
   "outputs": [
    {
     "data": {
      "text/html": [
       "<div>\n",
       "<style scoped>\n",
       "    .dataframe tbody tr th:only-of-type {\n",
       "        vertical-align: middle;\n",
       "    }\n",
       "\n",
       "    .dataframe tbody tr th {\n",
       "        vertical-align: top;\n",
       "    }\n",
       "\n",
       "    .dataframe thead th {\n",
       "        text-align: right;\n",
       "    }\n",
       "</style>\n",
       "<table border=\"1\" class=\"dataframe\">\n",
       "  <thead>\n",
       "    <tr style=\"text-align: right;\">\n",
       "      <th></th>\n",
       "      <th>企业名称</th>\n",
       "      <th>投资企业</th>\n",
       "      <th>出资比例</th>\n",
       "    </tr>\n",
       "  </thead>\n",
       "  <tbody>\n",
       "    <tr>\n",
       "      <th>0</th>\n",
       "      <td>上饶投资控股集团有限公司</td>\n",
       "      <td>上饶市旅游发展集团有限责任公司</td>\n",
       "      <td>100.000000</td>\n",
       "    </tr>\n",
       "    <tr>\n",
       "      <th>1</th>\n",
       "      <td>上饶投资控股集团有限公司</td>\n",
       "      <td>上饶市城市建设投资开发集团有限公司</td>\n",
       "      <td>100.000000</td>\n",
       "    </tr>\n",
       "    <tr>\n",
       "      <th>2</th>\n",
       "      <td>上饶市城市建设投资开发集团有限公司</td>\n",
       "      <td>上饶市龙潭湖投资有限公司</td>\n",
       "      <td>100.000000</td>\n",
       "    </tr>\n",
       "    <tr>\n",
       "      <th>3</th>\n",
       "      <td>三清山旅游产业发展集团有限公司</td>\n",
       "      <td>上饶市三清山物业管理有限责任公司</td>\n",
       "      <td>99.933333</td>\n",
       "    </tr>\n",
       "    <tr>\n",
       "      <th>4</th>\n",
       "      <td>上饶市旅游发展集团有限责任公司</td>\n",
       "      <td>上饶市全域文化旅游股份有限公司</td>\n",
       "      <td>99.500000</td>\n",
       "    </tr>\n",
       "    <tr>\n",
       "      <th>5</th>\n",
       "      <td>三清山旅游产业发展集团有限公司</td>\n",
       "      <td>上饶市三清山水务有限责任公司</td>\n",
       "      <td>70.000000</td>\n",
       "    </tr>\n",
       "    <tr>\n",
       "      <th>6</th>\n",
       "      <td>三清山旅游产业发展集团有限公司</td>\n",
       "      <td>江西三清山索道有限公司</td>\n",
       "      <td>7.000000</td>\n",
       "    </tr>\n",
       "    <tr>\n",
       "      <th>7</th>\n",
       "      <td>上饶市旅游发展集团有限责任公司</td>\n",
       "      <td>三清山旅游产业发展集团有限公司</td>\n",
       "      <td>51.000000</td>\n",
       "    </tr>\n",
       "    <tr>\n",
       "      <th>8</th>\n",
       "      <td>三清山旅游产业发展集团有限公司</td>\n",
       "      <td>上饶市三清山田园牧歌景区发展有限公司</td>\n",
       "      <td>49.000000</td>\n",
       "    </tr>\n",
       "    <tr>\n",
       "      <th>9</th>\n",
       "      <td>三清山旅游产业发展集团有限公司</td>\n",
       "      <td>上饶市印象旅游产业发展有限公司</td>\n",
       "      <td>40.000000</td>\n",
       "    </tr>\n",
       "  </tbody>\n",
       "</table>\n",
       "</div>"
      ],
      "text/plain": [
       "                企业名称                投资企业        出资比例\n",
       "0       上饶投资控股集团有限公司     上饶市旅游发展集团有限责任公司  100.000000\n",
       "1       上饶投资控股集团有限公司   上饶市城市建设投资开发集团有限公司  100.000000\n",
       "2  上饶市城市建设投资开发集团有限公司        上饶市龙潭湖投资有限公司  100.000000\n",
       "3    三清山旅游产业发展集团有限公司    上饶市三清山物业管理有限责任公司   99.933333\n",
       "4    上饶市旅游发展集团有限责任公司     上饶市全域文化旅游股份有限公司   99.500000\n",
       "5    三清山旅游产业发展集团有限公司      上饶市三清山水务有限责任公司   70.000000\n",
       "6    三清山旅游产业发展集团有限公司         江西三清山索道有限公司    7.000000\n",
       "7    上饶市旅游发展集团有限责任公司     三清山旅游产业发展集团有限公司   51.000000\n",
       "8    三清山旅游产业发展集团有限公司  上饶市三清山田园牧歌景区发展有限公司   49.000000\n",
       "9    三清山旅游产业发展集团有限公司     上饶市印象旅游产业发展有限公司   40.000000"
      ]
     },
     "execution_count": 7,
     "metadata": {},
     "output_type": "execute_result"
    }
   ],
   "source": [
    "data = pd.read_excel(\"./上饶投资控股集团有限公司.xlsx\", sheet_name = \"旅游\").drop_duplicates().reset_index(drop = True)\n",
    "data.head(10)\n",
    "\n",
    "# 计算各节点（企业）深度 -------------------------------------\n",
    "var_firma = \"企业名称\"; var_firmb = \"投资企业\"; var_rate = \"出资比例\"    \n",
    "df_firm = pd.DataFrame(columns = [\"name\", \"depth\", \"id\"])\n",
    "df_firm.name = list(set(data[var_firma]).union(set(data[var_firmb])))\n",
    "df_firm.id = np.arange(0, len(df_firm.name))\n",
    "\n",
    "firm_list_0 = list(set(data[var_firma]).difference(set(data[var_firmb])))\n",
    "d = 0 \n",
    "while len(firm_list_0)>0:\n",
    "    df_firm.loc[df_firm.name.isin(firm_list_0), \"depth\"] = d\n",
    "    d += 1\n",
    "    firm_list_1 = []\n",
    "    for firm in firm_list_0:\n",
    "        firm_list_1 += data.loc[data[var_firma] == firm, var_firmb].tolist()\n",
    "    firm_list_0 = firm_list_1    \n",
    "\n",
    "if \"depth\" not in data.columns:\n",
    "    data = pd.merge(data, df_firm, left_on = var_firmb, right_on = \"name\", how=\"left\")\n",
    "data = data.sort_values(by=\"depth\").reset_index(drop = True)\n",
    "\n",
    "# 设定各节点（企业）颜色为按深度递减的渐变色 -------------------------------------------------\n",
    "n_level = df_firm.depth.max()\n",
    "col1 = [34, 50, 66]; col2 = [160, 177, 184]\n",
    "df_rgb = pd.DataFrame(columns = ['r', 'g', 'b'])\n",
    "df_rgb.r = np.arange(col1[0], col2[0]+1, (col2[0]-col1[0])/n_level)\n",
    "df_rgb.g = np.arange(col1[1], col2[1]+1, (col2[1]-col1[1])/n_level)\n",
    "df_rgb.b = np.arange(col1[2], col2[2]+1, (col2[2]-col1[2])/n_level)\n",
    "col_list = [rgb2hex(df_rgb.iloc[idx].tolist()) for idx in range(len(df_rgb))]\n",
    "col_dict = {}\n",
    "for idx, col in enumerate(col_list):\n",
    "    col_dict[idx] = col"
   ]
  },
  {
   "cell_type": "code",
   "execution_count": 8,
   "metadata": {
    "ExecuteTime": {
     "end_time": "2021-03-20T16:57:59.958755Z",
     "start_time": "2021-03-20T16:57:58.500661Z"
    },
    "scrolled": true
   },
   "outputs": [
    {
     "data": {
      "text/plain": [
       "'.\\\\股权结构图-上饶投资.svg'"
      ]
     },
     "execution_count": 8,
     "metadata": {},
     "output_type": "execute_result"
    }
   ],
   "source": [
    "g = Digraph(\n",
    "    name=\"股权结构图-上饶投资\", \n",
    "    node_attr={\n",
    "        \"shape\": \"box\", \n",
    "        \"style\": \"filled\", \"fontcolor\": \"#ffffff\",\n",
    "        \"fontname\": \"STZhongsong\", \"fontsize\": \"8\", \n",
    "        \"height\":\"0.15\", \"width\":\".25\",  # 多行\n",
    "    }, \n",
    "    edge_attr={\n",
    "        \"fontname\": \"STZhongsong\",\n",
    "        \"fontsize\":\"5\",\n",
    "        \"arrowsize\":\".5\",\n",
    "    },\n",
    "    format=\"svg\",\n",
    ")\n",
    "g.attr(\n",
    "    rankdir='LR', \n",
    "    nodesep='0.05',\n",
    "    ranksep='.3',\n",
    "    margin='0',\n",
    ")\n",
    "\n",
    "for idx in range(len(data)):\n",
    "    firm_a = data.loc[idx, var_firma]\n",
    "    id_a = df_firm.loc[df_firm.name == firm_a, \"id\"].tolist()[0]\n",
    "    depth_a = df_firm.loc[df_firm.name == firm_a, \"depth\"].tolist()[0]\n",
    "    firm_b = data.loc[idx, var_firmb]\n",
    "    rate = data.loc[idx, var_rate]\n",
    "    g.node(str(id_a), label=firm_a,\n",
    "          color = col_dict[depth_a], fillcolor = col_dict[depth_a])\n",
    "    if rate>=0:\n",
    "        id_b = df_firm.loc[df_firm.name == firm_b, \"id\"].tolist()[0]\n",
    "        depth_b = df_firm.loc[df_firm.name == firm_b, \"depth\"].tolist()[0]\n",
    "        g.node(str(id_b), label=firm_b,\n",
    "                color = col_dict[depth_b], fillcolor = col_dict[depth_b])\n",
    "        g.edge(str(id_a), str(id_b), label = f\"{round(rate,1)}%\", color=\"#c1a57b\")\n",
    "\n",
    "g.view(filename=\"股权结构图-上饶投资\", directory=\"./\")"
   ]
  },
  {
   "cell_type": "markdown",
   "metadata": {},
   "source": [
    "<img src=\"股权结构图-上饶投资.svg\" style=\"height:650px\">"
   ]
  },
  {
   "cell_type": "markdown",
   "metadata": {},
   "source": [
    "## 多家企业间高管兼任情况"
   ]
  },
  {
   "cell_type": "code",
   "execution_count": 9,
   "metadata": {
    "ExecuteTime": {
     "end_time": "2021-03-20T16:58:00.036548Z",
     "start_time": "2021-03-20T16:57:59.964740Z"
    },
    "scrolled": true
   },
   "outputs": [
    {
     "data": {
      "text/html": [
       "<div>\n",
       "<style scoped>\n",
       "    .dataframe tbody tr th:only-of-type {\n",
       "        vertical-align: middle;\n",
       "    }\n",
       "\n",
       "    .dataframe tbody tr th {\n",
       "        vertical-align: top;\n",
       "    }\n",
       "\n",
       "    .dataframe thead th {\n",
       "        text-align: right;\n",
       "    }\n",
       "</style>\n",
       "<table border=\"1\" class=\"dataframe\">\n",
       "  <thead>\n",
       "    <tr style=\"text-align: right;\">\n",
       "      <th></th>\n",
       "      <th>姓名</th>\n",
       "      <th>任职企业</th>\n",
       "      <th>职务</th>\n",
       "    </tr>\n",
       "  </thead>\n",
       "  <tbody>\n",
       "    <tr>\n",
       "      <th>0</th>\n",
       "      <td>张三</td>\n",
       "      <td>企业01</td>\n",
       "      <td>董事长\\n总经理</td>\n",
       "    </tr>\n",
       "    <tr>\n",
       "      <th>1</th>\n",
       "      <td>张三</td>\n",
       "      <td>企业02</td>\n",
       "      <td>副董事长</td>\n",
       "    </tr>\n",
       "    <tr>\n",
       "      <th>2</th>\n",
       "      <td>李四</td>\n",
       "      <td>企业01</td>\n",
       "      <td>董事</td>\n",
       "    </tr>\n",
       "    <tr>\n",
       "      <th>3</th>\n",
       "      <td>李四</td>\n",
       "      <td>企业03</td>\n",
       "      <td>监事</td>\n",
       "    </tr>\n",
       "    <tr>\n",
       "      <th>4</th>\n",
       "      <td>王五</td>\n",
       "      <td>企业01</td>\n",
       "      <td>董事</td>\n",
       "    </tr>\n",
       "    <tr>\n",
       "      <th>5</th>\n",
       "      <td>王五</td>\n",
       "      <td>企业04</td>\n",
       "      <td>法定代表人\\n总经理\\n执行董事</td>\n",
       "    </tr>\n",
       "    <tr>\n",
       "      <th>6</th>\n",
       "      <td>王五</td>\n",
       "      <td>企业05</td>\n",
       "      <td>法定代表人\\n总经理\\n执行董事</td>\n",
       "    </tr>\n",
       "    <tr>\n",
       "      <th>7</th>\n",
       "      <td>宋六</td>\n",
       "      <td>企业01</td>\n",
       "      <td>监事</td>\n",
       "    </tr>\n",
       "    <tr>\n",
       "      <th>8</th>\n",
       "      <td>刘甲</td>\n",
       "      <td>企业01</td>\n",
       "      <td>监事</td>\n",
       "    </tr>\n",
       "    <tr>\n",
       "      <th>9</th>\n",
       "      <td>刘甲</td>\n",
       "      <td>企业03</td>\n",
       "      <td>监事</td>\n",
       "    </tr>\n",
       "  </tbody>\n",
       "</table>\n",
       "</div>"
      ],
      "text/plain": [
       "   姓名  任职企业                职务\n",
       "0  张三  企业01          董事长\\n总经理\n",
       "1  张三  企业02              副董事长\n",
       "2  李四  企业01                董事\n",
       "3  李四  企业03                监事\n",
       "4  王五  企业01                董事\n",
       "5  王五  企业04  法定代表人\\n总经理\\n执行董事\n",
       "6  王五  企业05  法定代表人\\n总经理\\n执行董事\n",
       "7  宋六  企业01                监事\n",
       "8  刘甲  企业01                监事\n",
       "9  刘甲  企业03                监事"
      ]
     },
     "execution_count": 9,
     "metadata": {},
     "output_type": "execute_result"
    }
   ],
   "source": [
    "data = pd.read_excel(\"./高管兼任.xlsx\").drop_duplicates().reset_index(drop = True)\n",
    "data.head(10)"
   ]
  },
  {
   "cell_type": "code",
   "execution_count": 10,
   "metadata": {
    "ExecuteTime": {
     "end_time": "2021-03-20T16:58:01.080753Z",
     "start_time": "2021-03-20T16:58:00.039540Z"
    },
    "scrolled": true
   },
   "outputs": [
    {
     "data": {
      "text/plain": [
       "'.\\\\高管兼任.svg'"
      ]
     },
     "execution_count": 10,
     "metadata": {},
     "output_type": "execute_result"
    }
   ],
   "source": [
    "var_firma = \"姓名\"; var_firmb = \"任职企业\"; var_rate = \"职务\"\n",
    "g = Digraph(\n",
    "    name=\"高管兼任\", \n",
    "    engine='fdp', \n",
    "    node_attr={\n",
    "        \"shape\": \"box\", \n",
    "        \"style\": \"filled\", \"fontcolor\": \"#ffffff\",\n",
    "        \"fontname\": \"STZhongsong\", \"fontsize\": \"7\", \n",
    "        \"height\":\"0.25\", \"width\":\".35\",  # 多行\n",
    "    }, \n",
    "    edge_attr={\n",
    "        \"fontname\": \"STZhongsong\",\n",
    "        \"fontsize\":\"6\",\n",
    "        \"arrowsize\":\".5\",\n",
    "    },\n",
    "    format=\"svg\",\n",
    ")\n",
    "g.attr(\n",
    "    nodesep='0.05',\n",
    "    ranksep='.3',\n",
    "    margin='0',\n",
    ")\n",
    "\n",
    "for idx in range(len(data)):\n",
    "    firm_a = data.loc[idx, var_firma]\n",
    "    id_a = firm_a\n",
    "    firm_b = data.loc[idx, var_firmb]\n",
    "    pos = data.loc[idx, var_rate]\n",
    "    g.node(str(id_a), shape=\"ellipse\", label=firm_a,\n",
    "           color = \"#61717d\", fillcolor = \"#61717d\")\n",
    "    if True:\n",
    "        id_b = firm_b\n",
    "        g.node(str(id_b), label=firm_b,\n",
    "               color = \"#61717d\", fillcolor = \"#ffffff\", fontcolor=\"#61717d\")\n",
    "        g.edge(str(id_a), str(id_b), label = pos, color=\"#c1a57b\")\n",
    "\n",
    "g.view(filename=\"高管兼任\", directory=\"./\")"
   ]
  },
  {
   "cell_type": "markdown",
   "metadata": {},
   "source": [
    "<img src=\"高管兼任.svg\" style=\"height:500px\">"
   ]
  },
  {
   "cell_type": "markdown",
   "metadata": {},
   "source": [
    "## References  \n",
    "\n",
    "**Graphviz Help Files:**  \n",
    "\n",
    "* [Graphviz official documents](https://graphviz.readthedocs.io/en/stable/manual.html)\n",
    "* The basics: https://blog.csdn.net/qq_35603331/java/article/details/81591949  \n",
    "* Shape settings: https://blog.csdn.net/junruitian/article/details/79596318?utm_source=blogkpcl8  \n",
    "* Including Chinese characters in Graphviz diagrams: https://blog.csdn.net/maillibin/article/details/100581857  \n",
    "* More settings: https://www.cnblogs.com/Zzbj/p/11431015.html  "
   ]
  }
 ],
 "metadata": {
  "kernelspec": {
   "display_name": "Python 3",
   "language": "python",
   "name": "python3"
  },
  "language_info": {
   "codemirror_mode": {
    "name": "ipython",
    "version": 3
   },
   "file_extension": ".py",
   "mimetype": "text/x-python",
   "name": "python",
   "nbconvert_exporter": "python",
   "pygments_lexer": "ipython3",
   "version": "3.7.1"
  },
  "toc": {
   "base_numbering": 1,
   "nav_menu": {},
   "number_sections": true,
   "sideBar": true,
   "skip_h1_title": false,
   "title_cell": "Table of Contents",
   "title_sidebar": "Contents",
   "toc_cell": false,
   "toc_position": {},
   "toc_section_display": true,
   "toc_window_display": false
  }
 },
 "nbformat": 4,
 "nbformat_minor": 2
}
